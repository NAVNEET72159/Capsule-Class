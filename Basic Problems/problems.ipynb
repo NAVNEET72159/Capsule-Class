{
 "cells": [
  {
   "cell_type": "code",
   "execution_count": null,
   "metadata": {},
   "outputs": [],
   "source": [
    "#pythagorus theorem\n",
    "a = int(input(\"Enter the value of first side of triangle: \"))\n",
    "b = int(input(\"Enter the value of second side of triangle: \"))\n",
    "c = (input(\"Enter the value of the side which you want to find (Ex: H for Hypotanus and B for Base and Perpendicular P): \"))\n",
    "ans = 0\n",
    "match c:\n",
    "    case \"H\":\n",
    "        ans = (a**2 + b**2)**0.5\n",
    "        print(f\"The value of Hypotanus is {ans}\")\n",
    "    case \"B\":\n",
    "        ans = (b**2 - a**2)**0.5\n",
    "        print(f\"The value of Base is {ans}\")\n",
    "    case \"P\":\n",
    "        ans = (a**2 - b**2)**0.5\n",
    "        print(f\"The value of Perpendicular is {ans}\")\n",
    "    case _:\n",
    "        print(\"Please enter the correct value\")"
   ]
  },
  {
   "cell_type": "code",
   "execution_count": null,
   "metadata": {},
   "outputs": [],
   "source": [
    "# Vowles and Consonants\n",
    "vowels = input(\"Enter the string: \")\n",
    "if vowels == \"a\" or vowels == \"e\" or vowels == \"i\" or vowels == \"o\" or vowels == \"u\" or vowels == \"A\" or vowels == \"E\" or vowels == \"I\" or vowels == \"O\" or vowels == \"U\":\n",
    "    print(\"The entered string is vowel\")\n",
    "else:\n",
    "    print(\"The entered string is consonant\")"
   ]
  },
  {
   "cell_type": "code",
   "execution_count": null,
   "metadata": {},
   "outputs": [],
   "source": [
    "vowels = input(\"Enter the string: \")\n",
    "vowels = vowels.upper()\n",
    "if vowels == \"a\" or vowels == \"e\" or vowels == \"i\" or vowels == \"o\" or vowels == \"u\":\n",
    "    print(\"The entered string is vowel\")\n",
    "else:\n",
    "    print(\"The entered string is consonant\")"
   ]
  },
  {
   "cell_type": "code",
   "execution_count": null,
   "metadata": {},
   "outputs": [],
   "source": [
    "vowels = input(\"Enter the string: \")\n",
    "vowels = vowels.lower()\n",
    "if vowels == \"a\" or vowels == \"e\" or vowels == \"i\" or vowels == \"o\" or vowels == \"u\":\n",
    "    print(\"The entered string is vowel\")\n",
    "elif vowels == \"0\" or vowels == \"1\" or vowels == \"2\" or vowels == \"3\" or vowels == \"4\" or vowels == \"5\" or vowels == \"6\" or vowels == \"7\" or vowels == \"8\" or vowels == \"9\":\n",
    "    print(\"The entered string is number\")\n",
    "else:\n",
    "    print(\"The entered string is consonant\")"
   ]
  },
  {
   "cell_type": "code",
   "execution_count": null,
   "metadata": {},
   "outputs": [],
   "source": [
    "#Grading System\n",
    "physics_marks = int(input(\"Enter the marks: \"))\n",
    "chemistry_marks = int(input(\"Enter the marks: \"))\n",
    "maths_marks = int(input(\"Enter the marks: \"))\n",
    "bio_Marks = int(input(\"Enter the marks: \"))\n",
    "computer_marks = int(input(\"Enter the marks: \"))\n",
    "precentage = ((physics_marks + chemistry_marks + maths_marks + bio_Marks + computer_marks)/5)*100\n",
    "if precentage >= 90:\n",
    "    print(\"Grade A\")\n",
    "elif precentage >= 80:\n",
    "    print(\"Grade B\")\n",
    "elif precentage >= 70:\n",
    "    print(\"Grade C\")\n",
    "elif precentage >= 60:\n",
    "    print(\"Grade D\")\n",
    "elif precentage >= 40:\n",
    "    print(\"Grade E\")\n",
    "else:\n",
    "    print(\"Grade F\")"
   ]
  },
  {
   "cell_type": "code",
   "execution_count": null,
   "metadata": {},
   "outputs": [],
   "source": [
    "#Gross Salary\n",
    "basic_salary = int(input(\"Enter the basic salary: \"))\n",
    "if basic_salary <= 10000:\n",
    "    hra = (basic_salary * 0.2)\n",
    "    da = (basic_salary * 0.8)\n",
    "    gross_salary = (basic_salary + hra + da)\n",
    "    print(f\"The gross salary is {gross_salary}\")\n",
    "elif basic_salary <= 20000:\n",
    "    hra = (basic_salary * 0.25)\n",
    "    da = (basic_salary * 0.9)\n",
    "    gross_salary = (basic_salary + hra + da)\n",
    "    print(f\"The gross salary is {gross_salary}\")\n",
    "else:\n",
    "    hra = (basic_salary * 0.3)\n",
    "    da = (basic_salary * 0.95)\n",
    "    gross_salary = (basic_salary + hra + da)\n",
    "    print(f\"The gross salary is {gross_salary}\")"
   ]
  },
  {
   "cell_type": "code",
   "execution_count": 4,
   "metadata": {},
   "outputs": [
    {
     "name": "stdout",
     "output_type": "stream",
     "text": [
      "Navneet\n"
     ]
    }
   ],
   "source": [
    "a = 'Navneet'\n",
    "print(a)"
   ]
  },
  {
   "cell_type": "markdown",
   "metadata": {},
   "source": [
    "#Data Types\n",
    "    int 10\n",
    "    float 10.0\n",
    "    String 'N'\n",
    "    boolean True and False\n",
    "    array"
   ]
  },
  {
   "cell_type": "code",
   "execution_count": null,
   "metadata": {},
   "outputs": [],
   "source": [
    "a = 12\n",
    "b = 24\n",
    "a+b "
   ]
  },
  {
   "cell_type": "markdown",
   "metadata": {},
   "source": [
    "#Operators \n",
    "* Arithmetic Operators \n",
    "    * Addition +\n",
    "    * Substraction - \n",
    "    * Multiplication * \n",
    "    * Division\n",
    "        /\n",
    "        //\n",
    "        %"
   ]
  },
  {
   "cell_type": "markdown",
   "metadata": {},
   "source": [
    "* Relational Operator\n",
    "    * <\n",
    "    * >\n",
    "    * ==\n",
    "    * >=\n",
    "    * <=\n",
    "    * !\n",
    "    * !=\n"
   ]
  },
  {
   "cell_type": "code",
   "execution_count": 5,
   "metadata": {},
   "outputs": [
    {
     "name": "stdout",
     "output_type": "stream",
     "text": [
      "False\n"
     ]
    }
   ],
   "source": [
    "a = 12\n",
    "b = 24\n",
    "print(a>b) "
   ]
  },
  {
   "cell_type": "markdown",
   "metadata": {},
   "source": [
    "# Logical Operators\n",
    " # AND = If any one value (input) is false than the output False (and)\n",
    " # OR = IF any one value (input) is true the the output is true (or)\n",
    " # NOT = (not)"
   ]
  },
  {
   "cell_type": "code",
   "execution_count": 9,
   "metadata": {},
   "outputs": [
    {
     "name": "stdout",
     "output_type": "stream",
     "text": [
      "False\n"
     ]
    }
   ],
   "source": [
    "a = 12\n",
    "b = 24\n",
    "print(not a)"
   ]
  },
  {
   "cell_type": "markdown",
   "metadata": {},
   "source": [
    "Assignment Operators\n",
    " * =\n",
    " * +=, -=, *=, /= "
   ]
  },
  {
   "cell_type": "code",
   "execution_count": 12,
   "metadata": {},
   "outputs": [
    {
     "ename": "SyntaxError",
     "evalue": "'literal' is an illegal expression for augmented assignment (1977469212.py, line 2)",
     "output_type": "error",
     "traceback": [
      "\u001b[1;36m  Cell \u001b[1;32mIn[12], line 2\u001b[1;36m\u001b[0m\n\u001b[1;33m    5 += a\u001b[0m\n\u001b[1;37m    ^\u001b[0m\n\u001b[1;31mSyntaxError\u001b[0m\u001b[1;31m:\u001b[0m 'literal' is an illegal expression for augmented assignment\n"
     ]
    }
   ],
   "source": [
    "a = 12\n",
    "5 += a\n",
    "print(a)"
   ]
  },
  {
   "cell_type": "markdown",
   "metadata": {},
   "source": [
    "a = a+b"
   ]
  },
  {
   "cell_type": "markdown",
   "metadata": {},
   "source": [
    "Increment Operators  ++ \n",
    "Decrement Operators --"
   ]
  },
  {
   "cell_type": "code",
   "execution_count": 19,
   "metadata": {},
   "outputs": [
    {
     "name": "stdout",
     "output_type": "stream",
     "text": [
      "12\n"
     ]
    }
   ],
   "source": [
    "#Pre \n",
    "a = 12\n",
    "print(++a+a++-++a)"
   ]
  },
  {
   "cell_type": "code",
   "execution_count": null,
   "metadata": {},
   "outputs": [],
   "source": []
  }
 ],
 "metadata": {
  "kernelspec": {
   "display_name": "base",
   "language": "python",
   "name": "python3"
  },
  "language_info": {
   "codemirror_mode": {
    "name": "ipython",
    "version": 3
   },
   "file_extension": ".py",
   "mimetype": "text/x-python",
   "name": "python",
   "nbconvert_exporter": "python",
   "pygments_lexer": "ipython3",
   "version": "3.10.9"
  },
  "orig_nbformat": 4
 },
 "nbformat": 4,
 "nbformat_minor": 2
}
