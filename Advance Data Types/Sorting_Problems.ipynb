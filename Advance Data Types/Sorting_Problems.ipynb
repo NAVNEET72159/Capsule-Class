{
 "cells": [
  {
   "cell_type": "code",
   "execution_count": 7,
   "metadata": {},
   "outputs": [
    {
     "name": "stdout",
     "output_type": "stream",
     "text": [
      "[90, 89, 78, 67, 56, 45, 34, 23, 12, 10]\n"
     ]
    }
   ],
   "source": [
    "# Write a program to sort a list of tuples in increasing order by the last element in each tuple.\n",
    "#Selection Sort\n",
    "list = [12, 34, 56, 78, 90, 23, 45, 67, 89, 10]\n",
    "temp = 0\n",
    "for i in range(len(list)):\n",
    "    for j in range(i+1,len(list)):\n",
    "        if list[i] < list[j]:\n",
    "            temp = list[i]\n",
    "            list[i] = list[j]\n",
    "            list[j] = temp\n",
    "\n",
    "print(list)"
   ]
  },
  {
   "cell_type": "code",
   "execution_count": null,
   "metadata": {},
   "outputs": [],
   "source": [
    "# "
   ]
  }
 ],
 "metadata": {
  "kernelspec": {
   "display_name": "base",
   "language": "python",
   "name": "python3"
  },
  "language_info": {
   "codemirror_mode": {
    "name": "ipython",
    "version": 3
   },
   "file_extension": ".py",
   "mimetype": "text/x-python",
   "name": "python",
   "nbconvert_exporter": "python",
   "pygments_lexer": "ipython3",
   "version": "3.10.9"
  },
  "orig_nbformat": 4
 },
 "nbformat": 4,
 "nbformat_minor": 2
}
