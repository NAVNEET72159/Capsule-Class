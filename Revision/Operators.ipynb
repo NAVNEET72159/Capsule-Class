{
 "cells": [
  {
   "cell_type": "markdown",
   "metadata": {},
   "source": [
    "# Operators\n",
    "* Arithematic Operators \n",
    "    * Addition +\n",
    "    * Sustraction -\n",
    "    * Multiplication *\n",
    "    * Division\n",
    "        * Division /\n",
    "        * Floor Division //\n",
    "        * Modulus %\n",
    "    * exponential **\n",
    "* Assignment Operators\n",
    "    * =\n",
    "    * +=, -=, *=, /=, //=, %=\n",
    "* Logical Operators\n",
    "    * and\n",
    "    * or\n",
    "    * not\n",
    "* Comparision/Relational Operators\n",
    "    * <\n",
    "    * >\n",
    "    * <=\n",
    "    * >=\n",
    "    * ==\n",
    "    * !=\n",
    "* Bitwise Operators\n",
    "    * AND &\n",
    "    * OR |\n",
    "    * NOT !\n",
    "* Membership Operators\n",
    "    * in \n",
    "    * not in\n",
    "* Identity Operators\n",
    "    * is \n",
    "    * is not"
   ]
  },
  {
   "cell_type": "markdown",
   "metadata": {},
   "source": [
    "# Conditionals\n",
    "    * if-else \n",
    "        * Normal if-else - Used when we have only two conditions\n",
    "        * Ladder if-else - Used when we have more than two conditions\n",
    "        * Nested if-else - Used when weh have conditions under another condition\n",
    "    * match-case\n",
    "        * Used when we have long ladder of if-else"
   ]
  },
  {
   "cell_type": "code",
   "execution_count": 1,
   "metadata": {},
   "outputs": [
    {
     "name": "stdout",
     "output_type": "stream",
     "text": [
      "b is greater than a\n"
     ]
    }
   ],
   "source": [
    "a = 10\n",
    "b = 20\n",
    "if a>b:\n",
    "    print(\"a is greater than b\")\n",
    "else:\n",
    "    print(\"b is greater than a\")"
   ]
  },
  {
   "cell_type": "code",
   "execution_count": 2,
   "metadata": {},
   "outputs": [
    {
     "name": "stdout",
     "output_type": "stream",
     "text": [
      "4\n"
     ]
    }
   ],
   "source": [
    "print(9//2)"
   ]
  },
  {
   "cell_type": "code",
   "execution_count": 2,
   "metadata": {},
   "outputs": [
    {
     "name": "stdout",
     "output_type": "stream",
     "text": [
      "31 Days\n"
     ]
    }
   ],
   "source": [
    "month = input(\"Enter the month: \")\n",
    "if month == 'January' or month == 'january' or month == 'JANUARY' or month == 'jan' or month == 'JAN' or month == 'Jan':\n",
    "    print(\"31 Days\")\n",
    "elif month == 'February' or month == 'february' or month == 'FEBRUARY' or month == 'feb' or month == 'FEB' or month == 'Feb':\n",
    "    print(\"28 or 29 Days\")\n",
    "elif month == 'March' or month == 'march' or month == 'MARCH' or month == 'mar' or month == 'MAR' or month == 'Mar':\n",
    "    print(\"31 Days\")\n",
    "elif month == 'April' or month == 'april' or month == 'APRIL' or month == 'apr' or month == 'APR' or month == 'Apr':\n",
    "    print(\"30 Days\")\n",
    "elif month == 'May' or month == 'may' or month == 'MAY':\n",
    "    print(\"31 Days\")\n",
    "elif month == 'June' or month == 'june' or month == 'JUNE' or month == 'jun' or month == 'JUN' or month == 'Jun':\n",
    "    print(\"30 Days\")\n",
    "elif month == 'July' or month == 'july' or month == 'JULY' or month == 'jul' or month == 'JUL' or month == 'Jul':\n",
    "    print(\"31 Days\")\n",
    "elif month == 'August' or month == 'august' or month == 'AUGUST' or month == 'aug' or month == 'AUG' or month == 'Aug':\n",
    "    print(\"31 Days\")\n",
    "elif month == 'September' or month == 'september' or month == 'SEPTEMBER' or month == 'sep' or month == 'SEP' or month == 'Sep':\n",
    "    print(\"30 Days\")\n",
    "elif month == 'October' or month == 'october' or month == 'OCTOBER' or month == 'oct' or month == 'OCT' or month == 'Oct':\n",
    "    print(\"31 Days\")\n",
    "elif month == 'November' or month == 'november' or month == 'NOVEMBER' or month == 'nov' or month == 'NOV' or month == 'Nov':\n",
    "    print(\"30 Days\")\n",
    "elif month == 'December' or month == 'december' or month == 'DECEMBER' or month == 'dec' or month == 'DEC' or month == 'Dec':\n",
    "    print(\"31 Days\")\n",
    "else:\n",
    "    print(\"Invalid Month\")"
   ]
  },
  {
   "cell_type": "code",
   "execution_count": 3,
   "metadata": {},
   "outputs": [
    {
     "ename": "KeyboardInterrupt",
     "evalue": "Interrupted by user",
     "output_type": "error",
     "traceback": [
      "\u001b[1;31m---------------------------------------------------------------------------\u001b[0m",
      "\u001b[1;31mKeyboardInterrupt\u001b[0m                         Traceback (most recent call last)",
      "Cell \u001b[1;32mIn[3], line 1\u001b[0m\n\u001b[1;32m----> 1\u001b[0m age \u001b[39m=\u001b[39m \u001b[39mint\u001b[39m(\u001b[39minput\u001b[39;49m(\u001b[39m\"\u001b[39;49m\u001b[39mEnter your age: \u001b[39;49m\u001b[39m\"\u001b[39;49m))\n\u001b[0;32m      2\u001b[0m height \u001b[39m=\u001b[39m \u001b[39mint\u001b[39m(\u001b[39minput\u001b[39m(\u001b[39m\"\u001b[39m\u001b[39mEnter your height: \u001b[39m\u001b[39m\"\u001b[39m))\n\u001b[0;32m      3\u001b[0m weight \u001b[39m=\u001b[39m \u001b[39mint\u001b[39m(\u001b[39minput\u001b[39m(\u001b[39m\"\u001b[39m\u001b[39mEnter your weight: \u001b[39m\u001b[39m\"\u001b[39m))\n",
      "File \u001b[1;32mc:\\Users\\Navneet\\miniconda3\\lib\\site-packages\\ipykernel\\kernelbase.py:1202\u001b[0m, in \u001b[0;36mKernel.raw_input\u001b[1;34m(self, prompt)\u001b[0m\n\u001b[0;32m   1200\u001b[0m     msg \u001b[39m=\u001b[39m \u001b[39m\"\u001b[39m\u001b[39mraw_input was called, but this frontend does not support input requests.\u001b[39m\u001b[39m\"\u001b[39m\n\u001b[0;32m   1201\u001b[0m     \u001b[39mraise\u001b[39;00m StdinNotImplementedError(msg)\n\u001b[1;32m-> 1202\u001b[0m \u001b[39mreturn\u001b[39;00m \u001b[39mself\u001b[39;49m\u001b[39m.\u001b[39;49m_input_request(\n\u001b[0;32m   1203\u001b[0m     \u001b[39mstr\u001b[39;49m(prompt),\n\u001b[0;32m   1204\u001b[0m     \u001b[39mself\u001b[39;49m\u001b[39m.\u001b[39;49m_parent_ident[\u001b[39m\"\u001b[39;49m\u001b[39mshell\u001b[39;49m\u001b[39m\"\u001b[39;49m],\n\u001b[0;32m   1205\u001b[0m     \u001b[39mself\u001b[39;49m\u001b[39m.\u001b[39;49mget_parent(\u001b[39m\"\u001b[39;49m\u001b[39mshell\u001b[39;49m\u001b[39m\"\u001b[39;49m),\n\u001b[0;32m   1206\u001b[0m     password\u001b[39m=\u001b[39;49m\u001b[39mFalse\u001b[39;49;00m,\n\u001b[0;32m   1207\u001b[0m )\n",
      "File \u001b[1;32mc:\\Users\\Navneet\\miniconda3\\lib\\site-packages\\ipykernel\\kernelbase.py:1245\u001b[0m, in \u001b[0;36mKernel._input_request\u001b[1;34m(self, prompt, ident, parent, password)\u001b[0m\n\u001b[0;32m   1242\u001b[0m \u001b[39mexcept\u001b[39;00m \u001b[39mKeyboardInterrupt\u001b[39;00m:\n\u001b[0;32m   1243\u001b[0m     \u001b[39m# re-raise KeyboardInterrupt, to truncate traceback\u001b[39;00m\n\u001b[0;32m   1244\u001b[0m     msg \u001b[39m=\u001b[39m \u001b[39m\"\u001b[39m\u001b[39mInterrupted by user\u001b[39m\u001b[39m\"\u001b[39m\n\u001b[1;32m-> 1245\u001b[0m     \u001b[39mraise\u001b[39;00m \u001b[39mKeyboardInterrupt\u001b[39;00m(msg) \u001b[39mfrom\u001b[39;00m \u001b[39mNone\u001b[39m\n\u001b[0;32m   1246\u001b[0m \u001b[39mexcept\u001b[39;00m \u001b[39mException\u001b[39;00m:\n\u001b[0;32m   1247\u001b[0m     \u001b[39mself\u001b[39m\u001b[39m.\u001b[39mlog\u001b[39m.\u001b[39mwarning(\u001b[39m\"\u001b[39m\u001b[39mInvalid Message:\u001b[39m\u001b[39m\"\u001b[39m, exc_info\u001b[39m=\u001b[39m\u001b[39mTrue\u001b[39;00m)\n",
      "\u001b[1;31mKeyboardInterrupt\u001b[0m: Interrupted by user"
     ]
    }
   ],
   "source": [
    "age = int(input(\"Enter your age: \"))\n",
    "height = int(input(\"Enter your height: \"))\n",
    "weight = int(input(\"Enter your weight: \"))\n",
    "\n",
    "if age <= 18:\n",
    "    if height > 4.5:\n",
    "        if weight >= 50:\n",
    "            print(\"Normal\")"
   ]
  },
  {
   "cell_type": "markdown",
   "metadata": {},
   "source": [
    "# match-case\n",
    "* we use match keyword to match the cases\n",
    "* case is used to write the statements according to the cases."
   ]
  },
  {
   "cell_type": "code",
   "execution_count": null,
   "metadata": {},
   "outputs": [],
   "source": [
    "a = (input(\"Enter your choice (+ for addition, - for substraction, * for multiplication, % for remainder value, / for quotient value in int type, // for quotient in decimal number): \"))\n",
    "match a:\n",
    "    case '+':\n",
    "        operand1 = int(input(\"Enter first number: \"))\n",
    "        operand2 = int(input(\"Enter second number: \"))\n",
    "        print(f\"Addition of {operand1} and {operand2} is {operand1 + operand2}\")\n",
    "    case '-':\n",
    "        operand1 = int(input(\"Enter first number: \"))\n",
    "        operand2 = int(input(\"Enter second number: \"))\n",
    "        print(f\"Substraction of {operand1} and {operand2} is {operand1 - operand2}\")\n",
    "    case '*':\n",
    "        operand1 = int(input(\"Enter first number: \"))\n",
    "        operand2 = int(input(\"Enter second number: \"))\n",
    "        print(f\"Multiplication of {operand1} and {operand2} is {operand1 * operand2}\")\n",
    "    case '%':\n",
    "        operand1 = int(input(\"Enter dividend: \"))\n",
    "        operand2 = int(input(\"Enter divisor: \"))\n",
    "        print(f\"Remainder of {operand1} and {operand2} is {operand1 % operand2}\")\n",
    "    case '/':\n",
    "        operand1 = int(input(\"Enter dividend: \"))\n",
    "        operand2 = int(input(\"Enter divisor: \"))\n",
    "        print(f\"Quotient of {operand1} and {operand2} is {operand1 / operand2}\")\n",
    "    case '//':\n",
    "        operand1 = int(input(\"Enter dividend: \"))\n",
    "        operand2 = int(input(\"Enter divisor: \"))\n",
    "        print(f\"Quotient of {operand1} and {operand2} is {operand1 // operand2}\")\n",
    "    case _:\n",
    "        print(\"Invalid choice\")\n"
   ]
  }
 ],
 "metadata": {
  "kernelspec": {
   "display_name": "base",
   "language": "python",
   "name": "python3"
  },
  "language_info": {
   "codemirror_mode": {
    "name": "ipython",
    "version": 3
   },
   "file_extension": ".py",
   "mimetype": "text/x-python",
   "name": "python",
   "nbconvert_exporter": "python",
   "pygments_lexer": "ipython3",
   "version": "3.10.9"
  },
  "orig_nbformat": 4
 },
 "nbformat": 4,
 "nbformat_minor": 2
}
