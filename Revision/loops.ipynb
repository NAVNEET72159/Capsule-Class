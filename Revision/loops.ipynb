{
 "cells": [
  {
   "cell_type": "markdown",
   "metadata": {},
   "source": [
    "# Loops\n",
    "    * for\n",
    "    * while"
   ]
  },
  {
   "cell_type": "markdown",
   "metadata": {},
   "source": [
    "# For \n",
    "* Used when we know the number of iteration\n",
    "* Types of for loop\n",
    "    * normal for loop\n",
    "    * nested for loop"
   ]
  },
  {
   "cell_type": "code",
   "execution_count": 1,
   "metadata": {},
   "outputs": [
    {
     "name": "stdout",
     "output_type": "stream",
     "text": [
      "Hello! World\n"
     ]
    }
   ],
   "source": [
    "print(\"Hello! World\")"
   ]
  },
  {
   "cell_type": "code",
   "execution_count": 3,
   "metadata": {},
   "outputs": [
    {
     "name": "stdout",
     "output_type": "stream",
     "text": [
      "I will not chew gum in class.\n",
      "I will not chew gum in class.\n",
      "I will not chew gum in class.\n",
      "I will not chew gum in class.\n",
      "I will not chew gum in class.\n",
      "I will not chew gum in class.\n",
      "I will not chew gum in class.\n",
      "I will not chew gum in class.\n",
      "I will not chew gum in class.\n",
      "I will not chew gum in class.\n",
      "I will not chew gum in class.\n",
      "I will not chew gum in class.\n",
      "I will not chew gum in class.\n",
      "I will not chew gum in class.\n",
      "I will not chew gum in class.\n",
      "I will not chew gum in class.\n",
      "I will not chew gum in class.\n",
      "I will not chew gum in class.\n",
      "I will not chew gum in class.\n",
      "I will not chew gum in class.\n",
      "I will not chew gum in class.\n",
      "I will not chew gum in class.\n",
      "I will not chew gum in class.\n",
      "I will not chew gum in class.\n",
      "I will not chew gum in class.\n",
      "I will not chew gum in class.\n",
      "I will not chew gum in class.\n",
      "I will not chew gum in class.\n",
      "I will not chew gum in class.\n",
      "I will not chew gum in class.\n",
      "I will not chew gum in class.\n",
      "I will not chew gum in class.\n",
      "I will not chew gum in class.\n",
      "I will not chew gum in class.\n",
      "I will not chew gum in class.\n",
      "I will not chew gum in class.\n",
      "I will not chew gum in class.\n",
      "I will not chew gum in class.\n",
      "I will not chew gum in class.\n",
      "I will not chew gum in class.\n",
      "I will not chew gum in class.\n",
      "I will not chew gum in class.\n",
      "I will not chew gum in class.\n",
      "I will not chew gum in class.\n",
      "I will not chew gum in class.\n",
      "I will not chew gum in class.\n",
      "I will not chew gum in class.\n",
      "I will not chew gum in class.\n",
      "I will not chew gum in class.\n",
      "I will not chew gum in class.\n",
      "I will not chew gum in class.\n",
      "I will not chew gum in class.\n",
      "I will not chew gum in class.\n",
      "I will not chew gum in class.\n",
      "I will not chew gum in class.\n",
      "I will not chew gum in class.\n",
      "I will not chew gum in class.\n",
      "I will not chew gum in class.\n",
      "I will not chew gum in class.\n",
      "I will not chew gum in class.\n",
      "I will not chew gum in class.\n",
      "I will not chew gum in class.\n",
      "I will not chew gum in class.\n",
      "I will not chew gum in class.\n",
      "I will not chew gum in class.\n",
      "I will not chew gum in class.\n",
      "I will not chew gum in class.\n",
      "I will not chew gum in class.\n",
      "I will not chew gum in class.\n",
      "I will not chew gum in class.\n",
      "I will not chew gum in class.\n",
      "I will not chew gum in class.\n",
      "I will not chew gum in class.\n",
      "I will not chew gum in class.\n",
      "I will not chew gum in class.\n",
      "I will not chew gum in class.\n",
      "I will not chew gum in class.\n",
      "I will not chew gum in class.\n",
      "I will not chew gum in class.\n",
      "I will not chew gum in class.\n",
      "I will not chew gum in class.\n",
      "I will not chew gum in class.\n",
      "I will not chew gum in class.\n",
      "I will not chew gum in class.\n",
      "I will not chew gum in class.\n",
      "I will not chew gum in class.\n",
      "I will not chew gum in class.\n",
      "I will not chew gum in class.\n",
      "I will not chew gum in class.\n",
      "I will not chew gum in class.\n",
      "I will not chew gum in class.\n",
      "I will not chew gum in class.\n",
      "I will not chew gum in class.\n",
      "I will not chew gum in class.\n",
      "I will not chew gum in class.\n",
      "I will not chew gum in class.\n",
      "I will not chew gum in class.\n",
      "I will not chew gum in class.\n",
      "I will not chew gum in class.\n",
      "I will not chew gum in class.\n"
     ]
    }
   ],
   "source": [
    "# print the above statement 10 times\n",
    "for i in range(100):\n",
    "    print(\"I will not chew gum in class.\")"
   ]
  },
  {
   "cell_type": "code",
   "execution_count": 4,
   "metadata": {},
   "outputs": [
    {
     "name": "stdout",
     "output_type": "stream",
     "text": [
      "0\n",
      "2\n",
      "4\n",
      "6\n",
      "8\n",
      "10\n",
      "12\n"
     ]
    }
   ],
   "source": [
    "#print even numbers till n\n",
    "input_number = int(input(\"Enter a number: \"))\n",
    "for i in range(0,input_number+1,1):\n",
    "    if i%2 == 0:\n",
    "        print(i)"
   ]
  },
  {
   "cell_type": "markdown",
   "metadata": {},
   "source": [
    "for i in range(0, 10, 1)\n",
    "\n",
    "for (i = 0; i < 10; i++)"
   ]
  },
  {
   "cell_type": "code",
   "execution_count": 5,
   "metadata": {},
   "outputs": [
    {
     "name": "stdout",
     "output_type": "stream",
     "text": [
      "0\n",
      "2\n",
      "4\n",
      "6\n",
      "8\n",
      "10\n",
      "12\n"
     ]
    }
   ],
   "source": [
    "input_number = int(input(\"Enter a number: \"))\n",
    "for i in range(0, input_number+1, 2):\n",
    "    print(i)"
   ]
  },
  {
   "cell_type": "code",
   "execution_count": 9,
   "metadata": {},
   "outputs": [
    {
     "name": "stdout",
     "output_type": "stream",
     "text": [
      "12\n",
      "10\n",
      "8\n",
      "6\n",
      "4\n",
      "2\n",
      "0\n"
     ]
    }
   ],
   "source": [
    "input_number = int(input(\"Enter a number: \"))\n",
    "for i in range(input_number, -1, -2):\n",
    "    print(i)"
   ]
  },
  {
   "cell_type": "code",
   "execution_count": null,
   "metadata": {},
   "outputs": [],
   "source": [
    "# prime number \n",
    "input_number = int(input(\"Enter a number: \"))\n",
    "c = 0\n",
    "for i in range(2, input_number):\n",
    "    if input_number % i == 0:\n",
    "        c += 1\n",
    "        print(\"Not a prime number\")\n",
    "        break\n",
    "    \n",
    "if c == 1:\n",
    "    print(\"Prime number\")"
   ]
  },
  {
   "cell_type": "code",
   "execution_count": 14,
   "metadata": {},
   "outputs": [
    {
     "name": "stdout",
     "output_type": "stream",
     "text": [
      "1^2+ 2^2+ 3^2+ 4^2+ 5^2+ 6^2+ 7^2+ 8^2+ 9^2+ 10^2+ 11^2+ 12^2\n",
      "Sum of series is:  650\n"
     ]
    }
   ],
   "source": [
    "# 1^2+2^2+3^2+...+n^2\n",
    "n = int(input(\"Enter the end of series: \"))\n",
    "sum = 0\n",
    "for i in range(1,n+1):\n",
    "    if i == n:\n",
    "        print(i, end = \"^2\")\n",
    "    else:\n",
    "        print(i, end = \"^2+ \")\n",
    "    sum += i**2\n",
    "print()\n",
    "print(\"Sum of series is: \",sum)"
   ]
  },
  {
   "cell_type": "markdown",
   "metadata": {},
   "source": [
    "# while loop\n",
    "* It is used when we don't know the number of iteration"
   ]
  },
  {
   "cell_type": "code",
   "execution_count": 21,
   "metadata": {},
   "outputs": [
    {
     "name": "stdout",
     "output_type": "stream",
     "text": [
      "Palindrome\n"
     ]
    }
   ],
   "source": [
    "# Palindrome Number\n",
    "w = int(input(\"Enter a number: \"))\n",
    "temp = w\n",
    "rev = 0\n",
    "while temp > 0:\n",
    "    rem = temp% 10\n",
    "    rev = rev * 10 + rem\n",
    "    temp = temp // 10\n",
    "\n",
    "if w == rev:\n",
    "    print(\"Palindrome\")\n",
    "else:\n",
    "    print(\"Not Palindrome\")"
   ]
  },
  {
   "cell_type": "code",
   "execution_count": 25,
   "metadata": {},
   "outputs": [
    {
     "name": "stdout",
     "output_type": "stream",
     "text": [
      "Invalid username or password\n",
      "Invalid username or password\n",
      "Invalid username or password\n",
      "Invalid username or password\n",
      "Invalid username or password\n",
      "Invalid username or password\n",
      "Invalid username or password\n",
      "Invalid username or password\n",
      "Welcome to the system\n"
     ]
    }
   ],
   "source": [
    "# Write a program to check whether username and password are valid or not.\n",
    "while True:\n",
    "    username = input(\"Enter username: \")\n",
    "    password = input(\"Enter password: \")\n",
    "    attempt = 0\n",
    "    if username == \"admin\" and password == \"admin\":\n",
    "        print(\"Welcome to the system\")\n",
    "        break\n",
    "    else:\n",
    "        attempt += 1\n",
    "        if attempt == 3:\n",
    "            print(\"your card is blocked\")\n",
    "        \n",
    "        print(\"Invalid username or password\")\n",
    "        \n"
   ]
  }
 ],
 "metadata": {
  "kernelspec": {
   "display_name": "base",
   "language": "python",
   "name": "python3"
  },
  "language_info": {
   "codemirror_mode": {
    "name": "ipython",
    "version": 3
   },
   "file_extension": ".py",
   "mimetype": "text/x-python",
   "name": "python",
   "nbconvert_exporter": "python",
   "pygments_lexer": "ipython3",
   "version": "3.10.9"
  },
  "orig_nbformat": 4
 },
 "nbformat": 4,
 "nbformat_minor": 2
}
