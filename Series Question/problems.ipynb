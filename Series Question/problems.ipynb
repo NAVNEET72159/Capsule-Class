{
 "cells": [
  {
   "cell_type": "code",
   "execution_count": null,
   "metadata": {},
   "outputs": [],
   "source": [
    "#pythagorus theorem\n",
    "a = int(input(\"Enter the value of first side of triangle: \"))\n",
    "b = int(input(\"Enter the value of second side of triangle: \"))\n",
    "c = (input(\"Enter the value of the side which you want to find (Ex: H for Hypotanus and B for Base and Perpendicular P): \"))\n",
    "ans = 0\n",
    "match c:\n",
    "    case \"H\":\n",
    "        ans = (a**2 + b**2)**0.5\n",
    "        print(f\"The value of Hypotanus is {ans}\")\n",
    "    case \"B\":\n",
    "        ans = (b**2 - a**2)**0.5\n",
    "        print(f\"The value of Base is {ans}\")\n",
    "    case \"P\":\n",
    "        ans = (a**2 - b**2)**0.5\n",
    "        print(f\"The value of Perpendicular is {ans}\")\n",
    "    case _:\n",
    "        print(\"Please enter the correct value\")"
   ]
  },
  {
   "cell_type": "code",
   "execution_count": null,
   "metadata": {},
   "outputs": [],
   "source": [
    "# Vowles and Consonants\n",
    "vowels = input(\"Enter the string: \")\n",
    "if vowels == \"a\" or vowels == \"e\" or vowels == \"i\" or vowels == \"o\" or vowels == \"u\" or vowels == \"A\" or vowels == \"E\" or vowels == \"I\" or vowels == \"O\" or vowels == \"U\":\n",
    "    print(\"The entered string is vowel\")\n",
    "else:\n",
    "    print(\"The entered string is consonant\")"
   ]
  },
  {
   "cell_type": "code",
   "execution_count": null,
   "metadata": {},
   "outputs": [],
   "source": [
    "vowels = input(\"Enter the string: \")\n",
    "vowels = vowels.upper()\n",
    "if vowels == \"a\" or vowels == \"e\" or vowels == \"i\" or vowels == \"o\" or vowels == \"u\":\n",
    "    print(\"The entered string is vowel\")\n",
    "else:\n",
    "    print(\"The entered string is consonant\")"
   ]
  },
  {
   "cell_type": "code",
   "execution_count": null,
   "metadata": {},
   "outputs": [],
   "source": [
    "vowels = input(\"Enter the string: \")\n",
    "vowels = vowels.lower()\n",
    "if vowels == \"a\" or vowels == \"e\" or vowels == \"i\" or vowels == \"o\" or vowels == \"u\":\n",
    "    print(\"The entered string is vowel\")\n",
    "elif vowels == \"0\" or vowels == \"1\" or vowels == \"2\" or vowels == \"3\" or vowels == \"4\" or vowels == \"5\" or vowels == \"6\" or vowels == \"7\" or vowels == \"8\" or vowels == \"9\":\n",
    "    print(\"The entered string is number\")\n",
    "else:\n",
    "    print(\"The entered string is consonant\")"
   ]
  },
  {
   "cell_type": "code",
   "execution_count": null,
   "metadata": {},
   "outputs": [],
   "source": [
    "#Grading System\n",
    "physics_marks = int(input(\"Enter the marks: \"))\n",
    "chemistry_marks = int(input(\"Enter the marks: \"))\n",
    "maths_marks = int(input(\"Enter the marks: \"))\n",
    "bio_Marks = int(input(\"Enter the marks: \"))\n",
    "computer_marks = int(input(\"Enter the marks: \"))\n",
    "precentage = ((physics_marks + chemistry_marks + maths_marks + bio_Marks + computer_marks)/5)*100\n",
    "if precentage >= 90:\n",
    "    print(\"Grade A\")\n",
    "elif precentage >= 80:\n",
    "    print(\"Grade B\")\n",
    "elif precentage >= 70:\n",
    "    print(\"Grade C\")\n",
    "elif precentage >= 60:\n",
    "    print(\"Grade D\")\n",
    "elif precentage >= 40:\n",
    "    print(\"Grade E\")\n",
    "else:\n",
    "    print(\"Grade F\")"
   ]
  },
  {
   "cell_type": "code",
   "execution_count": null,
   "metadata": {},
   "outputs": [],
   "source": [
    "#Gross Salary\n",
    "basic_salary = int(input(\"Enter the basic salary: \"))\n",
    "if basic_salary <= 10000:\n",
    "    hra = (basic_salary * 0.2)\n",
    "    da = (basic_salary * 0.8)\n",
    "    gross_salary = (basic_salary + hra + da)\n",
    "    print(f\"The gross salary is {gross_salary}\")\n",
    "elif basic_salary <= 20000:\n",
    "    hra = (basic_salary * 0.25)\n",
    "    da = (basic_salary * 0.9)\n",
    "    gross_salary = (basic_salary + hra + da)\n",
    "    print(f\"The gross salary is {gross_salary}\")\n",
    "else:\n",
    "    hra = (basic_salary * 0.3)\n",
    "    da = (basic_salary * 0.95)\n",
    "    gross_salary = (basic_salary + hra + da)\n",
    "    print(f\"The gross salary is {gross_salary}\")"
   ]
  }
 ],
 "metadata": {
  "language_info": {
   "name": "python"
  },
  "orig_nbformat": 4
 },
 "nbformat": 4,
 "nbformat_minor": 2
}
