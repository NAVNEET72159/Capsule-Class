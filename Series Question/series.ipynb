{
 "cells": [
  {
   "cell_type": "code",
   "execution_count": 3,
   "metadata": {},
   "outputs": [
    {
     "name": "stdout",
     "output_type": "stream",
     "text": [
      "123 is not a palindrome number\n"
     ]
    }
   ],
   "source": [
    "a = int(input(\"Enter any number: \"))\n",
    "sum = 0\n",
    "temp = a\n",
    "while temp != 0:\n",
    "    rem = temp % 10\n",
    "    sum = sum *10 + rem\n",
    "    temp = temp // 10\n",
    "\n",
    "if sum == a:\n",
    "    print(f\"{a} is a palindrome number\")\n",
    "else:\n",
    "    print(f\"{a} is not a palindrome number\")"
   ]
  },
  {
   "cell_type": "markdown",
   "metadata": {},
   "source": [
    "*\n",
    "**\n",
    "***\n",
    "****\n",
    "*****"
   ]
  },
  {
   "cell_type": "code",
   "execution_count": 7,
   "metadata": {},
   "outputs": [
    {
     "name": "stdout",
     "output_type": "stream",
     "text": [
      "* \n",
      "* * \n",
      "* * * \n",
      "* * * * \n",
      "* * * * * \n"
     ]
    }
   ],
   "source": [
    "a = (int)(input(\"Enter any number: \"))\n",
    "for i in range(a):\n",
    "    for j in range(i+1):\n",
    "        print(\"*\", end=\" \")\n",
    "    print()"
   ]
  },
  {
   "cell_type": "markdown",
   "metadata": {},
   "source": [
    "1, 2, 3, 5, 7, 11, "
   ]
  },
  {
   "cell_type": "code",
   "execution_count": 9,
   "metadata": {},
   "outputs": [
    {
     "name": "stdout",
     "output_type": "stream",
     "text": [
      "5 is a Prime Number\n"
     ]
    }
   ],
   "source": [
    "a = (int)(input(\"Enter ay number: \"))\n",
    "c = 0\n",
    "for i in range(2, a+1):\n",
    "    if (a%i == 0):\n",
    "        c = c+1\n",
    "\n",
    "if c == 1:\n",
    "    print(f\"{a} is a Prime Number\")\n",
    "else:\n",
    "    print(f\"{a} is not a Prime Number\")"
   ]
  },
  {
   "cell_type": "markdown",
   "metadata": {},
   "source": [
    "* Armstrong Number: 121 = 1^3+2^3+1^3"
   ]
  },
  {
   "cell_type": "code",
   "execution_count": null,
   "metadata": {},
   "outputs": [],
   "source": [
    "a = (int)(input(\"Enter any number: \"))\n",
    "while a != 0:\n",
    "    rem = a % 10\n",
    "    \n",
    "    a = a // 10\n",
    "\n",
    "if sum == a:\n",
    "    print(f\"{a} is an Armstrong number\")\n",
    "else:\n",
    "    print(f\"{a} is not an Armstrong number\")"
   ]
  }
 ],
 "metadata": {
  "kernelspec": {
   "display_name": "Python 3",
   "language": "python",
   "name": "python3"
  },
  "language_info": {
   "codemirror_mode": {
    "name": "ipython",
    "version": 3
   },
   "file_extension": ".py",
   "mimetype": "text/x-python",
   "name": "python",
   "nbconvert_exporter": "python",
   "pygments_lexer": "ipython3",
   "version": "3.10.9"
  },
  "orig_nbformat": 4
 },
 "nbformat": 4,
 "nbformat_minor": 2
}
